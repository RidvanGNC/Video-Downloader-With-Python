{
 "cells": [
  {
   "cell_type": "code",
   "execution_count": 1,
   "metadata": {},
   "outputs": [
    {
     "name": "stdout",
     "output_type": "stream",
     "text": [
      "Collecting pytube\n",
      "  Downloading pytube-15.0.0-py3-none-any.whl (57 kB)\n",
      "     ---------------------------------------- 0.0/57.6 kB ? eta -:--:--\n",
      "     ------- -------------------------------- 10.2/57.6 kB ? eta -:--:--\n",
      "     ------- -------------------------------- 10.2/57.6 kB ? eta -:--:--\n",
      "     ------------- ------------------------ 20.5/57.6 kB 165.2 kB/s eta 0:00:01\n",
      "     ------------- ------------------------ 20.5/57.6 kB 165.2 kB/s eta 0:00:01\n",
      "     -------------------------------------- 57.6/57.6 kB 253.2 kB/s eta 0:00:00\n",
      "Installing collected packages: pytube\n",
      "Successfully installed pytube-15.0.0\n",
      "Note: you may need to restart the kernel to use updated packages.\n"
     ]
    },
    {
     "name": "stderr",
     "output_type": "stream",
     "text": [
      "  WARNING: The script pytube.exe is installed in 'c:\\Users\\drago\\AppData\\Local\\Programs\\Python\\Python311\\Scripts' which is not on PATH.\n",
      "  Consider adding this directory to PATH or, if you prefer to suppress this warning, use --no-warn-script-location.\n",
      "\n",
      "[notice] A new release of pip is available: 23.2.1 -> 23.3.1\n",
      "[notice] To update, run: python.exe -m pip install --upgrade pip\n"
     ]
    }
   ],
   "source": [
    "%pip install pytube"
   ]
  },
  {
   "cell_type": "code",
   "execution_count": 1,
   "metadata": {},
   "outputs": [],
   "source": [
    "import pytube"
   ]
  },
  {
   "cell_type": "code",
   "execution_count": null,
   "metadata": {},
   "outputs": [],
   "source": [
    "a = [\n",
    " 'https://www.youtube.com/watch?v=rKwffSnq3ho&list=PLItkgPiGskZyW4NDpoQXLJqrJd4sVzctG&pp=iAQB',\n",
    " 'https://www.youtube.com/watch?v=tSIp7NxYJK4&list=PLItkgPiGskZyyu9-BUjD1Bs4biBqTjrQE&pp=iAQB',\n",
    " 'https://www.youtube.com/watch?v=hoTqGYLsupo&list=PLItkgPiGskZyc2Z4iXilw3arbauFZGtSg&pp=iAQB',\n",
    " 'https://www.youtube.com/watch?v=vsVyHogh1y4&list=PLItkgPiGskZw1vIEEH0UyF_Ryql3Yyde0&pp=iAQB',\n",
    " 'https://www.youtube.com/watch?v=cu3QdyQuBJo&list=PLItkgPiGskZxnslwbXHoigvseC07dOOiq&pp=iAQB',\n",
    " 'https://www.youtube.com/watch?v=Vvv8o9ZAKYo&list=PLItkgPiGskZx9dB76V84fB8H4pry9ylNP&pp=iAQB',\n",
    " 'https://www.youtube.com/watch?v=wfXhBoL4Pgc&list=PLItkgPiGskZxM2nXsGEO9YJTkC7qKI_uu&pp=iAQB',\n",
    " 'https://www.youtube.com/watch?v=jsTKMvoGzxQ&list=PLItkgPiGskZwOOB5KMfMCJfVE2EnvZreo&pp=iAQB',\n",
    " 'https://www.youtube.com/watch?v=VUPJpXpXo1g&list=PLItkgPiGskZy6sFBETx_CJo2N6s3FmEiX&pp=iAQB',\n",
    " 'https://www.youtube.com/watch?v=CCiOWlTMjsQ&list=PLItkgPiGskZysHpZU8Nub5FNDsxVBLJi9&pp=iAQB',\n",
    " 'https://www.youtube.com/watch?v=oEq0sCgwQWc&list=PLItkgPiGskZwBJmeg2Kdfkam46XAc2RTp&pp=iAQB',\n",
    " 'https://www.youtube.com/watch?v=1AaO55bHNvI&list=PLItkgPiGskZwDAAZOJQpp93vT9wkWGo_i&pp=iAQB',\n",
    " 'https://www.youtube.com/watch?v=eMoaomTsYDA&list=PLItkgPiGskZy3di2RnprLQxYZg0wd6liD&pp=iAQB',\n",
    " 'https://www.youtube.com/watch?v=Zv8CC80dJcg&list=PLItkgPiGskZwZhc8K8OtSdWjT-NEoxqH7&pp=iAQB',\n",
    " 'https://www.youtube.com/watch?v=lVYDaiI-SlA&list=PLItkgPiGskZz2x_b9yWFwmm0Wdb9uSbCf&pp=iAQB',\n",
    " 'https://www.youtube.com/watch?v=zOrj8_Sh7uE&list=PLItkgPiGskZwbPExyJQn_8Ptn8TU9Cw3p&pp=iAQB',\n",
    " 'https://www.youtube.com/watch?v=rKhf9dPGzHg&list=PLItkgPiGskZzUoDWJZSHE2T7bmROvOb3S&pp=iAQB',\n",
    " 'https://www.youtube.com/watch?v=sUl42vJSQ_M&list=PLItkgPiGskZyzFiM1AdTVltEMQ7Q4OphW&pp=iAQB',\n",
    " 'https://www.youtube.com/watch?v=t1T9K2aURO8&list=PLItkgPiGskZzDGYeMZy6VnpEOnG_HiqV2&pp=iAQB',\n",
    " 'https://www.youtube.com/watch?v=XSCQYd5gXFs&list=PLItkgPiGskZzmfXQzPdDnfo6IWKEGGM-_&pp=iAQB',\n",
    " 'https://www.youtube.com/watch?v=pf-kXsNdmT4&list=PLItkgPiGskZziGS-ocCc4z-_VcFr7dyRm&pp=iAQB',\n",
    " 'https://www.youtube.com/watch?v=5VnFQEwcyL0&list=PLItkgPiGskZxwH14xbFyFJiVcdQj2SeSq&pp=iAQB',\n",
    " 'https://www.youtube.com/watch?v=Xhcb8BILX8s&list=PLItkgPiGskZwsayKQNMtb312Rt515RJ3j&pp=iAQB',\n",
    " 'https://www.youtube.com/watch?v=1Le13A1OQoI&list=PLItkgPiGskZzuXma-T_uczRb-Pf3XX3Vt&pp=iAQB',\n",
    " 'https://www.youtube.com/watch?v=YWhupFuDR58&list=PLItkgPiGskZzvNuYyh51bBkHqjf5mKiA1&pp=iAQB',\n",
    " 'https://www.youtube.com/watch?v=fGNOyg7KHSw&list=PLItkgPiGskZwayhQ4Ewm43BQb9N5ogPVc&pp=iAQB',\n",
    " 'https://www.youtube.com/watch?v=qrDCiz7L74o&list=PLItkgPiGskZz8r26o09DQZzWW3BZj2TBx&pp=iAQB',\n",
    " 'https://www.youtube.com/watch?v=TiRcH0r0Dek&list=PLItkgPiGskZycVLm5qDBPpfoSObn-V1Rx&pp=iAQB',\n",
    " 'https://www.youtube.com/watch?v=4xxtwcp3jAk&list=PLItkgPiGskZzsPYtcPQldzW_P3aPhNqLr&pp=iAQB',\n",
    " 'https://www.youtube.com/watch?v=GdVf3Vmg0xQ&list=PLItkgPiGskZy0NHWsz2Fj1wYMy6rVRLOK&pp=iAQB',\n",
    " 'https://www.youtube.com/watch?v=HhIBl6CO5d4&list=PLItkgPiGskZwyjtn6HT69UngcuyiFsxua&pp=iAQB',\n",
    " 'https://www.youtube.com/watch?v=hNuZHlVMOx4&list=PLItkgPiGskZyFUEkuaK4t6_RwhWXpEElU&pp=iAQB',\n",
    " 'https://www.youtube.com/watch?v=NBwrkBhp24M&list=PLItkgPiGskZzoCs5KCbR1AwRCCdkdxYJn&pp=iAQB',\n",
    " 'https://www.youtube.com/watch?v=yx7WRbI9NEc&list=PLItkgPiGskZzqPNBTJuyKm-_TS5Ijyss9&pp=iAQB',\n",
    " 'https://www.youtube.com/watch?v=0DZ1Ti94Mkw&list=PLItkgPiGskZyiLfavxDMVjMACdfCguzDf&pp=iAQB',\n",
    " 'https://www.youtube.com/watch?v=sbnnI4i_vws&list=PLItkgPiGskZyi4816ZZ5UODK8T7NNLjt5&pp=iAQB',\n",
    " 'https://www.youtube.com/watch?v=jQ2xadFgvPY&list=PLItkgPiGskZwHxbVDAZOil2ekqBN-fAQG&pp=iAQB'\n",
    "]"
   ]
  },
  {
   "cell_type": "code",
   "execution_count": null,
   "metadata": {},
   "outputs": [],
   "source": [
    "pytube.Playlist"
   ]
  },
  {
   "cell_type": "code",
   "execution_count": 8,
   "metadata": {},
   "outputs": [
    {
     "name": "stdout",
     "output_type": "stream",
     "text": [
      "Error\n"
     ]
    }
   ],
   "source": [
    "for i in p:\n",
    "    yt = pytube.YouTube(i)\n",
    "    yt = yt.streams.get_highest_resolution()\n",
    "    try:\n",
    "        yt.download()\n",
    "    except:\n",
    "        print(\"Error\")"
   ]
  }
 ],
 "metadata": {
  "kernelspec": {
   "display_name": "Python 3",
   "language": "python",
   "name": "python3"
  },
  "language_info": {
   "codemirror_mode": {
    "name": "ipython",
    "version": 3
   },
   "file_extension": ".py",
   "mimetype": "text/x-python",
   "name": "python",
   "nbconvert_exporter": "python",
   "pygments_lexer": "ipython3",
   "version": "3.11.5"
  }
 },
 "nbformat": 4,
 "nbformat_minor": 2
}
