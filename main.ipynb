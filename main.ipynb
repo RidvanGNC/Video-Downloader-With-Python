{
 "cells": [
  {
   "cell_type": "code",
   "execution_count": null,
   "metadata": {},
   "outputs": [],
   "source": [
    "%pip install pytube"
   ]
  },
  {
   "cell_type": "code",
   "execution_count": 1,
   "metadata": {},
   "outputs": [],
   "source": [
    "import pytube, os"
   ]
  },
  {
   "cell_type": "code",
   "execution_count": 15,
   "metadata": {},
   "outputs": [],
   "source": [
    "links = [\n",
    " 'https://www.youtube.com/watch?v=rKwffSnq3ho&list=PLItkgPiGskZyW4NDpoQXLJqrJd4sVzctG&pp=iAQB',\n",
    " 'https://www.youtube.com/watch?v=tSIp7NxYJK4&list=PLItkgPiGskZyyu9-BUjD1Bs4biBqTjrQE&pp=iAQB',\n",
    " 'https://www.youtube.com/watch?v=hoTqGYLsupo&list=PLItkgPiGskZyc2Z4iXilw3arbauFZGtSg&pp=iAQB',\n",
    " 'https://www.youtube.com/watch?v=vsVyHogh1y4&list=PLItkgPiGskZw1vIEEH0UyF_Ryql3Yyde0&pp=iAQB',\n",
    " 'https://www.youtube.com/watch?v=cu3QdyQuBJo&list=PLItkgPiGskZxnslwbXHoigvseC07dOOiq&pp=iAQB',\n",
    " 'https://www.youtube.com/watch?v=Vvv8o9ZAKYo&list=PLItkgPiGskZx9dB76V84fB8H4pry9ylNP&pp=iAQB',\n",
    " 'https://www.youtube.com/watch?v=wfXhBoL4Pgc&list=PLItkgPiGskZxM2nXsGEO9YJTkC7qKI_uu&pp=iAQB',\n",
    " 'https://www.youtube.com/watch?v=jsTKMvoGzxQ&list=PLItkgPiGskZwOOB5KMfMCJfVE2EnvZreo&pp=iAQB',\n",
    " 'https://www.youtube.com/watch?v=VUPJpXpXo1g&list=PLItkgPiGskZy6sFBETx_CJo2N6s3FmEiX&pp=iAQB',\n",
    " 'https://www.youtube.com/watch?v=CCiOWlTMjsQ&list=PLItkgPiGskZysHpZU8Nub5FNDsxVBLJi9&pp=iAQB',\n",
    " 'https://www.youtube.com/watch?v=oEq0sCgwQWc&list=PLItkgPiGskZwBJmeg2Kdfkam46XAc2RTp&pp=iAQB',\n",
    " 'https://www.youtube.com/watch?v=1AaO55bHNvI&list=PLItkgPiGskZwDAAZOJQpp93vT9wkWGo_i&pp=iAQB',\n",
    " 'https://www.youtube.com/watch?v=eMoaomTsYDA&list=PLItkgPiGskZy3di2RnprLQxYZg0wd6liD&pp=iAQB',\n",
    " 'https://www.youtube.com/watch?v=Zv8CC80dJcg&list=PLItkgPiGskZwZhc8K8OtSdWjT-NEoxqH7&pp=iAQB',\n",
    " 'https://www.youtube.com/watch?v=lVYDaiI-SlA&list=PLItkgPiGskZz2x_b9yWFwmm0Wdb9uSbCf&pp=iAQB',\n",
    " 'https://www.youtube.com/watch?v=zOrj8_Sh7uE&list=PLItkgPiGskZwbPExyJQn_8Ptn8TU9Cw3p&pp=iAQB',\n",
    " 'https://www.youtube.com/watch?v=rKhf9dPGzHg&list=PLItkgPiGskZzUoDWJZSHE2T7bmROvOb3S&pp=iAQB',\n",
    " 'https://www.youtube.com/watch?v=sUl42vJSQ_M&list=PLItkgPiGskZyzFiM1AdTVltEMQ7Q4OphW&pp=iAQB',\n",
    " 'https://www.youtube.com/watch?v=t1T9K2aURO8&list=PLItkgPiGskZzDGYeMZy6VnpEOnG_HiqV2&pp=iAQB',\n",
    " 'https://www.youtube.com/watch?v=XSCQYd5gXFs&list=PLItkgPiGskZzmfXQzPdDnfo6IWKEGGM-_&pp=iAQB',\n",
    " 'https://www.youtube.com/watch?v=pf-kXsNdmT4&list=PLItkgPiGskZziGS-ocCc4z-_VcFr7dyRm&pp=iAQB',\n",
    " 'https://www.youtube.com/watch?v=5VnFQEwcyL0&list=PLItkgPiGskZxwH14xbFyFJiVcdQj2SeSq&pp=iAQB',\n",
    " 'https://www.youtube.com/watch?v=Xhcb8BILX8s&list=PLItkgPiGskZwsayKQNMtb312Rt515RJ3j&pp=iAQB',\n",
    " 'https://www.youtube.com/watch?v=1Le13A1OQoI&list=PLItkgPiGskZzuXma-T_uczRb-Pf3XX3Vt&pp=iAQB',\n",
    " 'https://www.youtube.com/watch?v=YWhupFuDR58&list=PLItkgPiGskZzvNuYyh51bBkHqjf5mKiA1&pp=iAQB',\n",
    " 'https://www.youtube.com/watch?v=fGNOyg7KHSw&list=PLItkgPiGskZwayhQ4Ewm43BQb9N5ogPVc&pp=iAQB',\n",
    " 'https://www.youtube.com/watch?v=qrDCiz7L74o&list=PLItkgPiGskZz8r26o09DQZzWW3BZj2TBx&pp=iAQB',\n",
    " 'https://www.youtube.com/watch?v=TiRcH0r0Dek&list=PLItkgPiGskZycVLm5qDBPpfoSObn-V1Rx&pp=iAQB',\n",
    " 'https://www.youtube.com/watch?v=4xxtwcp3jAk&list=PLItkgPiGskZzsPYtcPQldzW_P3aPhNqLr&pp=iAQB',\n",
    " 'https://www.youtube.com/watch?v=GdVf3Vmg0xQ&list=PLItkgPiGskZy0NHWsz2Fj1wYMy6rVRLOK&pp=iAQB',\n",
    " 'https://www.youtube.com/watch?v=HhIBl6CO5d4&list=PLItkgPiGskZwyjtn6HT69UngcuyiFsxua&pp=iAQB',\n",
    " 'https://www.youtube.com/watch?v=hNuZHlVMOx4&list=PLItkgPiGskZyFUEkuaK4t6_RwhWXpEElU&pp=iAQB',\n",
    " 'https://www.youtube.com/watch?v=NBwrkBhp24M&list=PLItkgPiGskZzoCs5KCbR1AwRCCdkdxYJn&pp=iAQB',\n",
    " 'https://www.youtube.com/watch?v=yx7WRbI9NEc&list=PLItkgPiGskZzqPNBTJuyKm-_TS5Ijyss9&pp=iAQB',\n",
    " 'https://www.youtube.com/watch?v=0DZ1Ti94Mkw&list=PLItkgPiGskZyiLfavxDMVjMACdfCguzDf&pp=iAQB',\n",
    " 'https://www.youtube.com/watch?v=sbnnI4i_vws&list=PLItkgPiGskZyi4816ZZ5UODK8T7NNLjt5&pp=iAQB',\n",
    " 'https://www.youtube.com/watch?v=jQ2xadFgvPY&list=PLItkgPiGskZwHxbVDAZOil2ekqBN-fAQG&pp=iAQB'\n",
    "]"
   ]
  },
  {
   "cell_type": "code",
   "execution_count": 21,
   "metadata": {},
   "outputs": [],
   "source": [
    "for link in links:\n",
    "    #This will gather videos from that playlist to an array\n",
    "    playlist = pytube.Playlist(link)\n",
    "    #We need title for creating folder and saving videos to it.\n",
    "    title = playlist.title\n",
    "    os.makedirs(title, exist_ok=True)\n",
    "    for video in playlist:\n",
    "        #This will create 'YouTube' object\n",
    "        yt = pytube.YouTube(video)\n",
    "        yt = yt.streams.get_highest_resolution()\n",
    "        try:\n",
    "            #Title stands for directory in here\n",
    "            yt.download(title)\n",
    "        except:\n",
    "            print(f\"Error from {yt}\")"
   ]
  }
 ],
 "metadata": {
  "kernelspec": {
   "display_name": "Python 3",
   "language": "python",
   "name": "python3"
  },
  "language_info": {
   "codemirror_mode": {
    "name": "ipython",
    "version": 3
   },
   "file_extension": ".py",
   "mimetype": "text/x-python",
   "name": "python",
   "nbconvert_exporter": "python",
   "pygments_lexer": "ipython3",
   "version": "3.11.5"
  }
 },
 "nbformat": 4,
 "nbformat_minor": 2
}
